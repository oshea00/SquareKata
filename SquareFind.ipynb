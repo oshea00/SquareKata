{
 "cells": [
  {
   "cell_type": "code",
   "execution_count": 1,
   "metadata": {},
   "outputs": [],
   "source": [
    "import random\n",
    "from numpy import linspace, sum as npsum, abs as npabs, array\n",
    "import matplotlib.pyplot as plt\n",
    "from ipycanvas import Canvas, hold_canvas"
   ]
  },
  {
   "cell_type": "code",
   "execution_count": 2,
   "metadata": {},
   "outputs": [
    {
     "name": "stdout",
     "output_type": "stream",
     "text": [
      " 0-- 1-- 2-- 3-- 4  \n",
      " |   |       |   |   \n",
      " 5-- 6-- 7-- 8-- 9  \n",
      " |   |   |   |   |   \n",
      "10  11--12--13  14  \n",
      " |   |   |   |   |   \n",
      "15--16--17--18--19  \n",
      " |   |       |   |   \n",
      "20--21--22--23--24  \n",
      "                     \n",
      "Number of squares = 18\n",
      "Paths:\n",
      "[6, 1, 0, 5]\n",
      "[9, 4, 3, 8]\n",
      "[12, 7, 6, 11]\n",
      "[13, 8, 7, 12]\n",
      "[13, 8, 3, 2, 1, 6, 11, 12]\n",
      "[17, 12, 11, 16]\n",
      "[17, 12, 7, 6, 5, 10, 15, 16]\n",
      "[18, 13, 12, 17]\n",
      "[18, 13, 8, 7, 6, 11, 16, 17]\n",
      "[18, 13, 8, 3, 2, 1, 0, 5, 10, 15, 16, 17]\n",
      "[19, 14, 9, 8, 7, 12, 17, 18]\n",
      "[19, 14, 9, 4, 3, 2, 1, 6, 11, 16, 17, 18]\n",
      "[21, 16, 15, 20]\n",
      "[23, 18, 13, 12, 11, 16, 21, 22]\n",
      "[23, 18, 13, 8, 7, 6, 5, 10, 15, 20, 21, 22]\n",
      "[24, 19, 18, 23]\n",
      "[24, 19, 14, 9, 8, 7, 6, 11, 16, 21, 22, 23]\n",
      "[24, 19, 14, 9, 4, 3, 2, 1, 0, 5, 10, 15, 20, 21, 22, 23]\n"
     ]
    }
   ],
   "source": [
    "# Traverse graph to find \"square\" paths.\n",
    "# List paths and total number.\n",
    "# 00--01--02--03--04\n",
    "# |   |       |   |   \n",
    "# 05--06--07--08--09\n",
    "# |   |   |   |   |\n",
    "# 10  11--12--13  14\n",
    "# |   |   |   |   |\n",
    "# 15--16--17--18--19\n",
    "# |   |       |   |\n",
    "# 20--21--22--23--24 \n",
    "#\n",
    "cols=5\n",
    "graph = {\n",
    "\t0 : [1,5],\n",
    "\t1 : [0,2,6],\n",
    "\t2 : [1,3],\n",
    "\t3 : [2,4,8],\n",
    "\t4 : [3,9],\n",
    "\t5 : [0,6,10],\n",
    "\t6 : [1,5,7,11],\n",
    "\t7 : [6,8,12],\n",
    "\t8 : [3,7,9,13],\n",
    "\t9 : [4,8,14],\n",
    "\t10 : [5,15],\n",
    "\t11 : [6,12,16],\n",
    "\t12 : [7,11,13,17],\n",
    "\t13 : [8,12,18],\n",
    "\t14 : [9,19],\n",
    "\t15 : [10,16,20],\n",
    "\t16 : [11,15,17,21],\n",
    "\t17 : [12,16,18],\n",
    "\t18 : [13,17,19,23],\n",
    "\t19 : [14,18,24],\n",
    "\t20 : [15,21],\n",
    "\t21 : [16,20,22],\n",
    "\t22 : [21,23],\n",
    "\t23 : [18,22,24],\n",
    "\t24 : [19,23]\n",
    "}\n",
    "\n",
    "def dispGraph():\n",
    "\tfor y in range(0,cols):\n",
    "\t\tfor x in range(0,cols):\n",
    "\t\t\tsep = \"  \"\n",
    "\t\t\tif x < cols-1 and y*cols+x+1 in graph[y*cols+x]:\n",
    "\t\t\t\tsep = \"--\"\n",
    "\t\t\tprint(f'{y*cols+x:2}{sep}',end='')\n",
    "\t\tprint()\n",
    "\t\tprint(' ',end='')\n",
    "\t\tfor x in range(0,cols):\n",
    "\t\t\tdown = \"   \"\n",
    "\t\t\tif y < cols-1 and y*cols+x in graph[(y+1)*cols+x]:\n",
    "\t\t\t\tdown = \"|  \"\n",
    "\t\t\tprint(down,end=' ')\n",
    "\t\tprint()\n",
    "\n",
    "def getDirectionOffset(dir,dist):\n",
    "\tif dir == 1: # N\n",
    "\t\treturn (0,-dist)\n",
    "\tif dir == 2: # W\n",
    "\t\treturn (-dist,0)\n",
    "\tif dir == 3: # S\n",
    "\t\treturn (0,dist)\n",
    "\tif dir == 4: # E\n",
    "\t\treturn (dist,0)\n",
    "\treturn (cols,cols)\n",
    "\n",
    "def isInbounds(row,col,dist,dir):\n",
    "\tcoloff, rowoff = getDirectionOffset(dir,dist)\n",
    "\tif not 0 <= row + rowoff < cols:\n",
    "\t\treturn False\n",
    "\tif not 0 <= col + coloff < cols:\n",
    "\t\treturn False\n",
    "\treturn True\n",
    "\t\t\t\t\n",
    "def isSquarePossibleAt(row,col,size):\n",
    "\tfor dir in range(1,5):\n",
    "\t\tcoloff, rowoff = getDirectionOffset(dir,size)\n",
    "\t\tif not isInbounds(row,col,size,dir):\n",
    "\t\t\treturn False\n",
    "\t\trow += rowoff\n",
    "\t\tcol += coloff\n",
    "\treturn True\n",
    "\n",
    "def pathWalkSquare(row,col,size):\n",
    "\tpath = []\n",
    "\tif isSquarePossibleAt(row,col,size):\n",
    "\t\tfor dir in range(1,5):\n",
    "\t\t\tcoloff, rowoff = getDirectionOffset(dir,1)\n",
    "\t\t\tfor _ in range(0,size):\n",
    "\t\t\t\tnode1 = row*cols+col\n",
    "\t\t\t\tnode2 = (row+rowoff)*cols+(col+coloff)\n",
    "\t\t\t\tif not node1 in graph[node2]:\n",
    "\t\t\t\t\treturn []\n",
    "\t\t\t\tpath.append(node1)\n",
    "\t\t\t\trow += rowoff\n",
    "\t\t\t\tcol += coloff\n",
    "\t\treturn path\n",
    "\treturn []\n",
    "\n",
    "paths = []\n",
    "dispGraph()\n",
    "for row in range(0,cols):\n",
    "\tfor col in range(0,cols):\n",
    "\t\tfor dist in range(1,cols+1):\n",
    "\t\t\tpath = pathWalkSquare(row,col,dist)\n",
    "\t\t\tif len(path) > 0:\n",
    "\t\t\t\tpaths.append(path)\n",
    "\t\t\t\t\n",
    "print(f'Number of squares = {len(paths)}')\n",
    "print('Paths:')\n",
    "for p in paths:\n",
    "\tprint(p)\n",
    "\n",
    "\t\n",
    "# Answer: 18"
   ]
  },
  {
   "cell_type": "markdown",
   "metadata": {},
   "source": [
    "# Visualize"
   ]
  },
  {
   "cell_type": "code",
   "execution_count": 6,
   "metadata": {},
   "outputs": [],
   "source": [
    "coords = dict(zip(range(cols**2),[ (x,y) for x in range(5) for y in range(5)]))\n",
    "scale = 50\n",
    "width = 200\n",
    "height = 200"
   ]
  },
  {
   "cell_type": "code",
   "execution_count": 7,
   "metadata": {},
   "outputs": [],
   "source": [
    "def drawpath(nodes,canvas):\n",
    "    canvas.begin_path()\n",
    "    vx, vy = array(coords[nodes[0]])*scale\n",
    "    canvas.move_to(vx+5,vy+5)\n",
    "    for next in range(1,len(nodes)):\n",
    "        tx, ty = array(coords[nodes[next]])*scale\n",
    "        canvas.line_to(tx+5,ty+5)\n",
    "    canvas.close_path()\n",
    "    canvas.stroke()"
   ]
  },
  {
   "cell_type": "code",
   "execution_count": 8,
   "metadata": {},
   "outputs": [
    {
     "data": {
      "application/vnd.jupyter.widget-view+json": {
       "model_id": "d2a84e48785e423f981100c40cce1d49",
       "version_major": 2,
       "version_minor": 0
      },
      "text/plain": [
       "Canvas(layout=Layout(height='500px', width='700px'), size=(700, 500), sync_image_data=True)"
      ]
     },
     "metadata": {},
     "output_type": "display_data"
    }
   ],
   "source": [
    "canvas = Canvas(sync_image_data=True)\n",
    "def saveFile(*args, **kwargs):\n",
    "    canvas.to_file('grid.png')\n",
    "with hold_canvas(canvas):\n",
    "    canvas.fill_style = 'white'\n",
    "    canvas.stroke_style = 'black'\n",
    "    canvas.line_width=5\n",
    "    canvas.fill_rect(0, 0, width, height)\n",
    "    for p in paths:\n",
    "        drawpath(p,canvas)\n",
    "canvas.observe(saveFile,'image_data')\n",
    "canvas"
   ]
  },
  {
   "cell_type": "markdown",
   "metadata": {},
   "source": [
    "![](grid.png)"
   ]
  },
  {
   "cell_type": "code",
   "execution_count": null,
   "metadata": {},
   "outputs": [],
   "source": []
  }
 ],
 "metadata": {
  "kernelspec": {
   "display_name": "Python 3",
   "language": "python",
   "name": "python3"
  },
  "language_info": {
   "codemirror_mode": {
    "name": "ipython",
    "version": 3
   },
   "file_extension": ".py",
   "mimetype": "text/x-python",
   "name": "python",
   "nbconvert_exporter": "python",
   "pygments_lexer": "ipython3",
   "version": "3.7.3"
  }
 },
 "nbformat": 4,
 "nbformat_minor": 2
}
